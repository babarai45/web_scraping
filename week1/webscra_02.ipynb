{
 "cells": [
  {
   "cell_type": "code",
   "execution_count": null,
   "metadata": {},
   "outputs": [],
   "source": []
  },
  {
   "cell_type": "markdown",
   "metadata": {},
   "source": [
    "# list of tags and method of BS4 and it functionallity"
   ]
  },
  {
   "cell_type": "code",
   "execution_count": 4,
   "metadata": {},
   "outputs": [],
   "source": [
    "import pandas as pd\n",
    "from bs4 import BeautifulSoup\n",
    "import requests"
   ]
  },
  {
   "cell_type": "code",
   "execution_count": 5,
   "metadata": {},
   "outputs": [
    {
     "data": {
      "text/html": [
       "<!DOCTYPE html>\n",
       "<html>\n",
       "<head>\n",
       "<title>Page Title</title>\n",
       "</head>\n",
       "<body>\n",
       "<h3><b id='bol\n",
       "    dest'>Lebron James</b></h3>\n",
       "<p> Salary: $ 92,000,000 </p>\n",
       "<h3> Stephen Curry</h3>\n",
       "<p> Salary: $85,000, 000 </p>\n",
       "<h3> Kevin Durant </h3>\n",
       "<p> Salary: $73,200, 000</p>\n",
       "</body>\n",
       "</html>\n"
      ],
      "text/plain": [
       "<IPython.core.display.HTML object>"
      ]
     },
     "metadata": {},
     "output_type": "display_data"
    }
   ],
   "source": [
    "%%html\n",
    "<!DOCTYPE html>\n",
    "<html>\n",
    "<head>\n",
    "<title>Page Title</title>\n",
    "</head>\n",
    "<body>\n",
    "<h3><b id='bol\n",
    "    dest'>Lebron James</b></h3>\n",
    "<p> Salary: $ 92,000,000 </p>\n",
    "<h3> Stephen Curry</h3>\n",
    "<p> Salary: $85,000, 000 </p>\n",
    "<h3> Kevin Durant </h3>\n",
    "<p> Salary: $73,200, 000</p>\n",
    "</body>\n",
    "</html>"
   ]
  },
  {
   "cell_type": "code",
   "execution_count": 6,
   "metadata": {},
   "outputs": [],
   "source": [
    "html=\"<!DOCTYPE html><html><head><title>Page Title</title></head><body><h3><b id='boldest'>Lebron James</b></h3><p> Salary: $ 92,000,000 </p><h3> Stephen Curry</h3><p> Salary: $85,000, 000 </p><h3> Kevin Durant </h3><p> Salary: $73,200, 000</p></body></html>\""
   ]
  },
  {
   "cell_type": "code",
   "execution_count": 7,
   "metadata": {},
   "outputs": [],
   "source": [
    "# Parse the HTML\n",
    "soup = BeautifulSoup(html, 'html.parser')"
   ]
  },
  {
   "cell_type": "code",
   "execution_count": 8,
   "metadata": {},
   "outputs": [
    {
     "name": "stdout",
     "output_type": "stream",
     "text": [
      "<!DOCTYPE html>\n",
      "<html>\n",
      " <head>\n",
      "  <title>\n",
      "   Page Title\n",
      "  </title>\n",
      " </head>\n",
      " <body>\n",
      "  <h3>\n",
      "   <b id=\"boldest\">\n",
      "    Lebron James\n",
      "   </b>\n",
      "  </h3>\n",
      "  <p>\n",
      "   Salary: $ 92,000,000\n",
      "  </p>\n",
      "  <h3>\n",
      "   Stephen Curry\n",
      "  </h3>\n",
      "  <p>\n",
      "   Salary: $85,000, 000\n",
      "  </p>\n",
      "  <h3>\n",
      "   Kevin Durant\n",
      "  </h3>\n",
      "  <p>\n",
      "   Salary: $73,200, 000\n",
      "  </p>\n",
      " </body>\n",
      "</html>\n",
      "\n"
     ]
    }
   ],
   "source": [
    "print(soup.prettify()) # print the parsed data of html"
   ]
  },
  {
   "cell_type": "code",
   "execution_count": 9,
   "metadata": {},
   "outputs": [
    {
     "data": {
      "text/plain": [
       "'Page TitleLebron James Salary: $ 92,000,000  Stephen Curry Salary: $85,000, 000  Kevin Durant  Salary: $73,200, 000'"
      ]
     },
     "execution_count": 9,
     "metadata": {},
     "output_type": "execute_result"
    }
   ],
   "source": [
    "soup.text"
   ]
  },
  {
   "cell_type": "markdown",
   "metadata": {},
   "source": [
    "# Tags\n",
    "- `soup.title` : returns the title of the page\n",
    "- `soup.title.name` : returns the name of the title tag\n",
    "- `soup.title.string` : returns the string inside the title tag\n",
    "- `soup.p` : returns the first p tag\n",
    "- `soup.p['class']` : returns the class of the p tag\n",
    "- `soup.a` : returns the first a tag\n",
    "- `soup.find_all('a')` : returns all the a tags\n",
    "- `soup.find(id='link3')` : returns the tag with id link3\n",
    "- `soup.get_text()` : returns the text of the page\n",
    "- `soup.get_text(strip=True)` : returns the text of the page without the extra spaces\n",
    "- `soup.get_text(strip=False)` : returns the text of the page with the extra spaces\n",
    "- `soup.get_text(separator=' ')` : returns the text of the page with the separator as space\n",
    "- `soup.get_text(separator='-', strip=True)` : returns the text of the page with the separator as - and without the extra spaces    \n",
    "- `soup.get_text(separator='-', strip=False)` : returns the text of the page with the separator as - and with the extra spaces\n"
   ]
  },
  {
   "cell_type": "markdown",
   "metadata": {},
   "source": []
  },
  {
   "cell_type": "code",
   "execution_count": 10,
   "metadata": {},
   "outputs": [
    {
     "data": {
      "text/plain": [
       "<title>Page Title</title>"
      ]
     },
     "execution_count": 10,
     "metadata": {},
     "output_type": "execute_result"
    }
   ],
   "source": [
    "soup.title"
   ]
  },
  {
   "cell_type": "code",
   "execution_count": 11,
   "metadata": {},
   "outputs": [
    {
     "data": {
      "text/plain": [
       "'title'"
      ]
     },
     "execution_count": 11,
     "metadata": {},
     "output_type": "execute_result"
    }
   ],
   "source": [
    "soup.title.name"
   ]
  },
  {
   "cell_type": "code",
   "execution_count": 12,
   "metadata": {},
   "outputs": [
    {
     "data": {
      "text/plain": [
       "'Page Title'"
      ]
     },
     "execution_count": 12,
     "metadata": {},
     "output_type": "execute_result"
    }
   ],
   "source": [
    "soup.title.string"
   ]
  },
  {
   "cell_type": "code",
   "execution_count": 13,
   "metadata": {},
   "outputs": [
    {
     "data": {
      "text/plain": [
       "'head'"
      ]
     },
     "execution_count": 13,
     "metadata": {},
     "output_type": "execute_result"
    }
   ],
   "source": [
    "soup.title.parent.name"
   ]
  },
  {
   "cell_type": "code",
   "execution_count": 14,
   "metadata": {},
   "outputs": [
    {
     "data": {
      "text/plain": [
       "<head><title>Page Title</title></head>"
      ]
     },
     "execution_count": 14,
     "metadata": {},
     "output_type": "execute_result"
    }
   ],
   "source": [
    "soup.title.previous_element"
   ]
  },
  {
   "cell_type": "code",
   "execution_count": 15,
   "metadata": {},
   "outputs": [
    {
     "data": {
      "text/plain": [
       "<generator object PageElement.previous_siblings at 0x000001562B35D540>"
      ]
     },
     "execution_count": 15,
     "metadata": {},
     "output_type": "execute_result"
    }
   ],
   "source": [
    "soup.title.previous_siblings"
   ]
  },
  {
   "cell_type": "code",
   "execution_count": 16,
   "metadata": {},
   "outputs": [
    {
     "data": {
      "text/plain": [
       "'Page Title'"
      ]
     },
     "execution_count": 16,
     "metadata": {},
     "output_type": "execute_result"
    }
   ],
   "source": [
    "soup.title.next\n"
   ]
  },
  {
   "cell_type": "code",
   "execution_count": 17,
   "metadata": {},
   "outputs": [
    {
     "data": {
      "text/plain": [
       "'Page Title'"
      ]
     },
     "execution_count": 17,
     "metadata": {},
     "output_type": "execute_result"
    }
   ],
   "source": [
    "soup.title.next_element"
   ]
  },
  {
   "cell_type": "code",
   "execution_count": 18,
   "metadata": {},
   "outputs": [],
   "source": [
    "soup.title.next_sibling"
   ]
  },
  {
   "cell_type": "code",
   "execution_count": 19,
   "metadata": {},
   "outputs": [
    {
     "data": {
      "text/plain": [
       "<head><title>Page Title</title></head>"
      ]
     },
     "execution_count": 19,
     "metadata": {},
     "output_type": "execute_result"
    }
   ],
   "source": [
    "soup.head"
   ]
  },
  {
   "cell_type": "code",
   "execution_count": 20,
   "metadata": {},
   "outputs": [
    {
     "data": {
      "text/plain": [
       "<body><h3><b id=\"boldest\">Lebron James</b></h3><p> Salary: $ 92,000,000 </p><h3> Stephen Curry</h3><p> Salary: $85,000, 000 </p><h3> Kevin Durant </h3><p> Salary: $73,200, 000</p></body>"
      ]
     },
     "execution_count": 20,
     "metadata": {},
     "output_type": "execute_result"
    }
   ],
   "source": [
    "soup.head.next_sibling"
   ]
  },
  {
   "cell_type": "code",
   "execution_count": 21,
   "metadata": {},
   "outputs": [
    {
     "data": {
      "text/plain": [
       "<h3><b id=\"boldest\">Lebron James</b></h3>"
      ]
     },
     "execution_count": 21,
     "metadata": {},
     "output_type": "execute_result"
    }
   ],
   "source": [
    "soup.head.next_sibling.next_element"
   ]
  },
  {
   "cell_type": "code",
   "execution_count": 22,
   "metadata": {},
   "outputs": [
    {
     "data": {
      "text/plain": [
       "'Lebron James Salary: $ 92,000,000  Stephen Curry Salary: $85,000, 000  Kevin Durant  Salary: $73,200, 000'"
      ]
     },
     "execution_count": 22,
     "metadata": {},
     "output_type": "execute_result"
    }
   ],
   "source": [
    "soup.body.get_text()"
   ]
  },
  {
   "cell_type": "code",
   "execution_count": 23,
   "metadata": {},
   "outputs": [
    {
     "data": {
      "text/plain": [
       "<h3><b id=\"boldest\">Lebron James</b></h3>"
      ]
     },
     "execution_count": 23,
     "metadata": {},
     "output_type": "execute_result"
    }
   ],
   "source": [
    "soup.h3"
   ]
  },
  {
   "cell_type": "code",
   "execution_count": 24,
   "metadata": {},
   "outputs": [
    {
     "data": {
      "text/plain": [
       "[<h3><b id=\"boldest\">Lebron James</b></h3>,\n",
       " <h3> Stephen Curry</h3>,\n",
       " <h3> Kevin Durant </h3>]"
      ]
     },
     "execution_count": 24,
     "metadata": {},
     "output_type": "execute_result"
    }
   ],
   "source": [
    "soup.find_all('h3')"
   ]
  },
  {
   "cell_type": "code",
   "execution_count": 25,
   "metadata": {},
   "outputs": [
    {
     "data": {
      "text/plain": [
       "[<p> Salary: $ 92,000,000 </p>,\n",
       " <p> Salary: $85,000, 000 </p>,\n",
       " <p> Salary: $73,200, 000</p>]"
      ]
     },
     "execution_count": 25,
     "metadata": {},
     "output_type": "execute_result"
    }
   ],
   "source": [
    "soup.find_all('p')"
   ]
  },
  {
   "cell_type": "code",
   "execution_count": 26,
   "metadata": {},
   "outputs": [
    {
     "data": {
      "text/plain": [
       "'Lebron James'"
      ]
     },
     "execution_count": 26,
     "metadata": {},
     "output_type": "execute_result"
    }
   ],
   "source": [
    "soup.find_all('h3')[0].get_text()"
   ]
  },
  {
   "cell_type": "markdown",
   "metadata": {},
   "source": [
    "## Tags\n"
   ]
  },
  {
   "cell_type": "code",
   "execution_count": 27,
   "metadata": {},
   "outputs": [],
   "source": [
    "tag_object=soup.find_all('h3')[0]"
   ]
  },
  {
   "cell_type": "code",
   "execution_count": 28,
   "metadata": {},
   "outputs": [
    {
     "name": "stdout",
     "output_type": "stream",
     "text": [
      "<h3><b id=\"boldest\">Lebron James</b></h3>\n"
     ]
    }
   ],
   "source": [
    "print(tag_object)"
   ]
  },
  {
   "cell_type": "code",
   "execution_count": 29,
   "metadata": {},
   "outputs": [
    {
     "name": "stdout",
     "output_type": "stream",
     "text": [
      "<class 'bs4.element.Tag'>\n"
     ]
    }
   ],
   "source": [
    "print(type(tag_object))"
   ]
  },
  {
   "cell_type": "code",
   "execution_count": 30,
   "metadata": {},
   "outputs": [
    {
     "data": {
      "text/plain": [
       "<h3><b id=\"boldest\">Lebron James</b></h3>"
      ]
     },
     "execution_count": 30,
     "metadata": {},
     "output_type": "execute_result"
    }
   ],
   "source": [
    "tag_object=soup.h3\n",
    "tag_object"
   ]
  },
  {
   "cell_type": "code",
   "execution_count": 31,
   "metadata": {},
   "outputs": [
    {
     "data": {
      "text/plain": [
       "<b id=\"boldest\">Lebron James</b>"
      ]
     },
     "execution_count": 31,
     "metadata": {},
     "output_type": "execute_result"
    }
   ],
   "source": [
    "tag_object.b"
   ]
  },
  {
   "cell_type": "markdown",
   "metadata": {},
   "source": [
    "### Children, Parents, and Siblings\n"
   ]
  },
  {
   "cell_type": "code",
   "execution_count": 32,
   "metadata": {},
   "outputs": [
    {
     "data": {
      "text/plain": [
       "<b id=\"boldest\">Lebron James</b>"
      ]
     },
     "execution_count": 32,
     "metadata": {},
     "output_type": "execute_result"
    }
   ],
   "source": [
    "tag_chiled = tag_object.b\n",
    "tag_chiled\n"
   ]
  },
  {
   "cell_type": "code",
   "execution_count": 33,
   "metadata": {},
   "outputs": [
    {
     "data": {
      "text/plain": [
       "<body><h3><b id=\"boldest\">Lebron James</b></h3><p> Salary: $ 92,000,000 </p><h3> Stephen Curry</h3><p> Salary: $85,000, 000 </p><h3> Kevin Durant </h3><p> Salary: $73,200, 000</p></body>"
      ]
     },
     "execution_count": 33,
     "metadata": {},
     "output_type": "execute_result"
    }
   ],
   "source": [
    "tag_object.parent"
   ]
  },
  {
   "cell_type": "markdown",
   "metadata": {},
   "source": [
    "# --------------------------"
   ]
  },
  {
   "cell_type": "markdown",
   "metadata": {},
   "source": [
    "# table data from wikipedia "
   ]
  },
  {
   "cell_type": "code",
   "execution_count": 34,
   "metadata": {},
   "outputs": [],
   "source": [
    "url= 'https://en.wikipedia.org/wiki/World_population'"
   ]
  },
  {
   "cell_type": "code",
   "execution_count": 36,
   "metadata": {},
   "outputs": [],
   "source": [
    "response= requests.get(url)"
   ]
  },
  {
   "cell_type": "code",
   "execution_count": 37,
   "metadata": {},
   "outputs": [
    {
     "data": {
      "text/plain": [
       "200"
      ]
     },
     "execution_count": 37,
     "metadata": {},
     "output_type": "execute_result"
    }
   ],
   "source": [
    "response.status_code"
   ]
  },
  {
   "cell_type": "code",
   "execution_count": 38,
   "metadata": {},
   "outputs": [],
   "source": [
    "soup = BeautifulSoup(response.text,'html.parser')"
   ]
  },
  {
   "cell_type": "code",
   "execution_count": 42,
   "metadata": {},
   "outputs": [],
   "source": [
    "# print(soup.prettify())"
   ]
  },
  {
   "cell_type": "code",
   "execution_count": 45,
   "metadata": {},
   "outputs": [],
   "source": [
    "table= soup.find('table')"
   ]
  },
  {
   "cell_type": "code",
   "execution_count": 50,
   "metadata": {},
   "outputs": [],
   "source": [
    "# table"
   ]
  },
  {
   "cell_type": "code",
   "execution_count": 46,
   "metadata": {},
   "outputs": [],
   "source": [
    "table_head=[]\n",
    "for i in table:\n",
    "    th= i.find('th')\n",
    "    table_head.append(th)\n",
    "    "
   ]
  },
  {
   "cell_type": "code",
   "execution_count": 47,
   "metadata": {},
   "outputs": [
    {
     "data": {
      "text/plain": [
       "[None]"
      ]
     },
     "execution_count": 47,
     "metadata": {},
     "output_type": "execute_result"
    }
   ],
   "source": [
    "table_head"
   ]
  },
  {
   "cell_type": "code",
   "execution_count": 48,
   "metadata": {},
   "outputs": [
    {
     "data": {
      "text/plain": [
       "<th scope=\"row\">Population\n",
       "</th>"
      ]
     },
     "execution_count": 48,
     "metadata": {},
     "output_type": "execute_result"
    }
   ],
   "source": [
    "soup.find('th')"
   ]
  },
  {
   "cell_type": "code",
   "execution_count": 64,
   "metadata": {},
   "outputs": [],
   "source": [
    "#The URL below contains an HTML table with data about colors and color codes.\n",
    "url2 = \"https://cf-courses-data.s3.us.cloud-object-storage.appdomain.cloud/IBM-DA0321EN-SkillsNetwork/labs/datasets/HTMLColorCodes.html\""
   ]
  },
  {
   "cell_type": "code",
   "execution_count": 65,
   "metadata": {},
   "outputs": [],
   "source": [
    "res=requests.get(url2)"
   ]
  },
  {
   "cell_type": "code",
   "execution_count": 66,
   "metadata": {},
   "outputs": [
    {
     "data": {
      "text/plain": [
       "200"
      ]
     },
     "execution_count": 66,
     "metadata": {},
     "output_type": "execute_result"
    }
   ],
   "source": [
    "res.status_code"
   ]
  },
  {
   "cell_type": "code",
   "execution_count": 67,
   "metadata": {},
   "outputs": [],
   "source": [
    "soup1 = BeautifulSoup(res.text, 'html.parser')"
   ]
  },
  {
   "cell_type": "code",
   "execution_count": 68,
   "metadata": {},
   "outputs": [
    {
     "data": {
      "text/plain": [
       "<html>\n",
       "<body>\n",
       "<h1>Partital List  of HTML5 Supported Colors</h1>\n",
       "<table border=\"1\" class=\"main-table\">\n",
       "<tr>\n",
       "<td>Number </td>\n",
       "<td>Color</td>\n",
       "<td>Color Name</td>\n",
       "<td>Hex Code<br/>#RRGGBB</td>\n",
       "<td>Decimal Code<br/>(R,G,B)</td>\n",
       "</tr>\n",
       "<tr>\n",
       "<td>1</td>\n",
       "<td style=\"background:lightsalmon;\"> </td>\n",
       "<td>lightsalmon</td>\n",
       "<td>#FFA07A</td>\n",
       "<td>rgb(255,160,122)</td>\n",
       "</tr>\n",
       "<tr>\n",
       "<td>2</td>\n",
       "<td style=\"background:salmon;\"> </td>\n",
       "<td>salmon</td>\n",
       "<td>#FA8072</td>\n",
       "<td>rgb(250,128,114)</td>\n",
       "</tr>\n",
       "<tr>\n",
       "<td>3</td>\n",
       "<td style=\"background:darksalmon;\"> </td>\n",
       "<td>darksalmon</td>\n",
       "<td>#E9967A</td>\n",
       "<td>rgb(233,150,122)</td>\n",
       "</tr>\n",
       "<tr>\n",
       "<td>4</td>\n",
       "<td style=\"background:lightcoral;\"> </td>\n",
       "<td>lightcoral</td>\n",
       "<td>#F08080</td>\n",
       "<td>rgb(240,128,128)</td>\n",
       "</tr>\n",
       "<tr>\n",
       "<td>5</td>\n",
       "<td style=\"background:coral;\"> </td>\n",
       "<td>coral</td>\n",
       "<td>#FF7F50</td>\n",
       "<td>rgb(255,127,80)</td>\n",
       "</tr>\n",
       "<tr>\n",
       "<td>6</td>\n",
       "<td style=\"background:tomato;\"> </td>\n",
       "<td>tomato</td>\n",
       "<td>#FF6347</td>\n",
       "<td>rgb(255,99,71)</td>\n",
       "</tr>\n",
       "<tr>\n",
       "<td>7</td>\n",
       "<td style=\"background:orangered;\"> </td>\n",
       "<td>orangered</td>\n",
       "<td>#FF4500</td>\n",
       "<td>rgb(255,69,0)</td>\n",
       "</tr>\n",
       "<tr>\n",
       "<td>8</td>\n",
       "<td style=\"background:gold;\"> </td>\n",
       "<td>gold</td>\n",
       "<td>#FFD700</td>\n",
       "<td>rgb(255,215,0)</td>\n",
       "</tr>\n",
       "<tr>\n",
       "<td>9</td>\n",
       "<td style=\"background:orange;\"> </td>\n",
       "<td>orange</td>\n",
       "<td>#FFA500</td>\n",
       "<td>rgb(255,165,0)</td>\n",
       "</tr>\n",
       "<tr>\n",
       "<td>10</td>\n",
       "<td style=\"background:darkorange;\"> </td>\n",
       "<td>darkorange</td>\n",
       "<td>#FF8C00</td>\n",
       "<td>rgb(255,140,0)</td>\n",
       "</tr>\n",
       "<tr>\n",
       "<td>11</td>\n",
       "<td style=\"background:lightyellow;\"> </td>\n",
       "<td>lightyellow</td>\n",
       "<td>#FFFFE0</td>\n",
       "<td>rgb(255,255,224)</td>\n",
       "</tr>\n",
       "<tr>\n",
       "<td>12</td>\n",
       "<td style=\"background:lemonchiffon;\"> </td>\n",
       "<td>lemonchiffon</td>\n",
       "<td>#FFFACD</td>\n",
       "<td>rgb(255,250,205)</td>\n",
       "</tr>\n",
       "<tr>\n",
       "<td>13</td>\n",
       "<td style=\"background:papayawhip;\"> </td>\n",
       "<td>papayawhip</td>\n",
       "<td>#FFEFD5</td>\n",
       "<td>rgb(255,239,213)</td>\n",
       "</tr>\n",
       "<tr>\n",
       "<td>14</td>\n",
       "<td style=\"background:moccasin;\"> </td>\n",
       "<td>moccasin</td>\n",
       "<td>#FFE4B5</td>\n",
       "<td>rgb(255,228,181)</td>\n",
       "</tr>\n",
       "<tr>\n",
       "<td>15</td>\n",
       "<td style=\"background:peachpuff;\"> </td>\n",
       "<td>peachpuff</td>\n",
       "<td>#FFDAB9</td>\n",
       "<td>rgb(255,218,185)</td>\n",
       "</tr>\n",
       "<tr>\n",
       "<td>16</td>\n",
       "<td style=\"background:palegoldenrod;\"> </td>\n",
       "<td>palegoldenrod</td>\n",
       "<td>#EEE8AA</td>\n",
       "<td>rgb(238,232,170)</td>\n",
       "</tr>\n",
       "<tr>\n",
       "<td>17</td>\n",
       "<td style=\"background:khaki;\"> </td>\n",
       "<td>khaki</td>\n",
       "<td>#F0E68C</td>\n",
       "<td>rgb(240,230,140)</td>\n",
       "</tr>\n",
       "<tr>\n",
       "<td>18</td>\n",
       "<td style=\"background:darkkhaki;\"> </td>\n",
       "<td>darkkhaki</td>\n",
       "<td>#BDB76B</td>\n",
       "<td>rgb(189,183,107)</td>\n",
       "</tr>\n",
       "<tr>\n",
       "<td>19</td>\n",
       "<td style=\"background:yellow;\"> </td>\n",
       "<td>yellow</td>\n",
       "<td>#FFFF00</td>\n",
       "<td>rgb(255,255,0)</td>\n",
       "</tr>\n",
       "<tr>\n",
       "<td>20</td>\n",
       "<td style=\"background:lawngreen;\"> </td>\n",
       "<td>lawngreen</td>\n",
       "<td>#7CFC00</td>\n",
       "<td>rgb(124,252,0)</td>\n",
       "</tr>\n",
       "<tr>\n",
       "<td>21</td>\n",
       "<td style=\"background:chartreuse;\"> </td>\n",
       "<td>chartreuse</td>\n",
       "<td>#7FFF00</td>\n",
       "<td>rgb(127,255,0)</td>\n",
       "</tr>\n",
       "<tr>\n",
       "<td>22</td>\n",
       "<td style=\"background:limegreen;\"> </td>\n",
       "<td>limegreen</td>\n",
       "<td>#32CD32</td>\n",
       "<td>rgb(50,205,50)</td>\n",
       "</tr>\n",
       "<tr>\n",
       "<td>23</td>\n",
       "<td style=\"background:lime;\"> </td>\n",
       "<td>lime</td>\n",
       "<td>#00FF00</td>\n",
       "<td>rgb(0.255.0)</td>\n",
       "</tr>\n",
       "<tr>\n",
       "<td>24</td>\n",
       "<td style=\"background:forestgreen;\"> </td>\n",
       "<td>forestgreen</td>\n",
       "<td>#228B22</td>\n",
       "<td>rgb(34,139,34)</td>\n",
       "</tr>\n",
       "<tr>\n",
       "<td>25</td>\n",
       "<td style=\"background:green;\"> </td>\n",
       "<td>green</td>\n",
       "<td>#008000</td>\n",
       "<td>rgb(0,128,0)</td>\n",
       "</tr>\n",
       "<tr>\n",
       "<td>26</td>\n",
       "<td style=\"background:powderblue;\"> </td>\n",
       "<td>powderblue</td>\n",
       "<td>#B0E0E6</td>\n",
       "<td>rgb(176,224,230)</td>\n",
       "</tr>\n",
       "<tr>\n",
       "<td>27</td>\n",
       "<td style=\"background:lightblue;\"> </td>\n",
       "<td>lightblue</td>\n",
       "<td>#ADD8E6</td>\n",
       "<td>rgb(173,216,230)</td>\n",
       "</tr>\n",
       "<tr>\n",
       "<td>28</td>\n",
       "<td style=\"background:lightskyblue;\"> </td>\n",
       "<td>lightskyblue</td>\n",
       "<td>#87CEFA</td>\n",
       "<td>rgb(135,206,250)</td>\n",
       "</tr>\n",
       "<tr>\n",
       "<td>29</td>\n",
       "<td style=\"background:skyblue;\"> </td>\n",
       "<td>skyblue</td>\n",
       "<td>#87CEEB</td>\n",
       "<td>rgb(135,206,235)</td>\n",
       "</tr>\n",
       "<tr>\n",
       "<td>30</td>\n",
       "<td style=\"background:deepskyblue;\"> </td>\n",
       "<td>deepskyblue</td>\n",
       "<td>#00BFFF</td>\n",
       "<td>rgb(0,191,255)</td>\n",
       "</tr>\n",
       "<tr>\n",
       "<td>31</td>\n",
       "<td style=\"background:lightsteelblue;\"> </td>\n",
       "<td>lightsteelblue</td>\n",
       "<td>#B0C4DE</td>\n",
       "<td>rgb(176,196,222)</td>\n",
       "</tr>\n",
       "<tr>\n",
       "<td>32</td>\n",
       "<td style=\"background:dodgerblue;\"> </td>\n",
       "<td>dodgerblue</td>\n",
       "<td>#1E90FF</td>\n",
       "<td>rgb(30,144,255)</td>\n",
       "</tr>\n",
       "</table>\n",
       "</body>\n",
       "</html>"
      ]
     },
     "execution_count": 68,
     "metadata": {},
     "output_type": "execute_result"
    }
   ],
   "source": [
    "soup1"
   ]
  },
  {
   "cell_type": "code",
   "execution_count": 69,
   "metadata": {},
   "outputs": [],
   "source": [
    "table= soup1.find('table')"
   ]
  },
  {
   "cell_type": "code",
   "execution_count": 70,
   "metadata": {},
   "outputs": [
    {
     "data": {
      "text/plain": [
       "<table border=\"1\" class=\"main-table\">\n",
       "<tr>\n",
       "<td>Number </td>\n",
       "<td>Color</td>\n",
       "<td>Color Name</td>\n",
       "<td>Hex Code<br/>#RRGGBB</td>\n",
       "<td>Decimal Code<br/>(R,G,B)</td>\n",
       "</tr>\n",
       "<tr>\n",
       "<td>1</td>\n",
       "<td style=\"background:lightsalmon;\"> </td>\n",
       "<td>lightsalmon</td>\n",
       "<td>#FFA07A</td>\n",
       "<td>rgb(255,160,122)</td>\n",
       "</tr>\n",
       "<tr>\n",
       "<td>2</td>\n",
       "<td style=\"background:salmon;\"> </td>\n",
       "<td>salmon</td>\n",
       "<td>#FA8072</td>\n",
       "<td>rgb(250,128,114)</td>\n",
       "</tr>\n",
       "<tr>\n",
       "<td>3</td>\n",
       "<td style=\"background:darksalmon;\"> </td>\n",
       "<td>darksalmon</td>\n",
       "<td>#E9967A</td>\n",
       "<td>rgb(233,150,122)</td>\n",
       "</tr>\n",
       "<tr>\n",
       "<td>4</td>\n",
       "<td style=\"background:lightcoral;\"> </td>\n",
       "<td>lightcoral</td>\n",
       "<td>#F08080</td>\n",
       "<td>rgb(240,128,128)</td>\n",
       "</tr>\n",
       "<tr>\n",
       "<td>5</td>\n",
       "<td style=\"background:coral;\"> </td>\n",
       "<td>coral</td>\n",
       "<td>#FF7F50</td>\n",
       "<td>rgb(255,127,80)</td>\n",
       "</tr>\n",
       "<tr>\n",
       "<td>6</td>\n",
       "<td style=\"background:tomato;\"> </td>\n",
       "<td>tomato</td>\n",
       "<td>#FF6347</td>\n",
       "<td>rgb(255,99,71)</td>\n",
       "</tr>\n",
       "<tr>\n",
       "<td>7</td>\n",
       "<td style=\"background:orangered;\"> </td>\n",
       "<td>orangered</td>\n",
       "<td>#FF4500</td>\n",
       "<td>rgb(255,69,0)</td>\n",
       "</tr>\n",
       "<tr>\n",
       "<td>8</td>\n",
       "<td style=\"background:gold;\"> </td>\n",
       "<td>gold</td>\n",
       "<td>#FFD700</td>\n",
       "<td>rgb(255,215,0)</td>\n",
       "</tr>\n",
       "<tr>\n",
       "<td>9</td>\n",
       "<td style=\"background:orange;\"> </td>\n",
       "<td>orange</td>\n",
       "<td>#FFA500</td>\n",
       "<td>rgb(255,165,0)</td>\n",
       "</tr>\n",
       "<tr>\n",
       "<td>10</td>\n",
       "<td style=\"background:darkorange;\"> </td>\n",
       "<td>darkorange</td>\n",
       "<td>#FF8C00</td>\n",
       "<td>rgb(255,140,0)</td>\n",
       "</tr>\n",
       "<tr>\n",
       "<td>11</td>\n",
       "<td style=\"background:lightyellow;\"> </td>\n",
       "<td>lightyellow</td>\n",
       "<td>#FFFFE0</td>\n",
       "<td>rgb(255,255,224)</td>\n",
       "</tr>\n",
       "<tr>\n",
       "<td>12</td>\n",
       "<td style=\"background:lemonchiffon;\"> </td>\n",
       "<td>lemonchiffon</td>\n",
       "<td>#FFFACD</td>\n",
       "<td>rgb(255,250,205)</td>\n",
       "</tr>\n",
       "<tr>\n",
       "<td>13</td>\n",
       "<td style=\"background:papayawhip;\"> </td>\n",
       "<td>papayawhip</td>\n",
       "<td>#FFEFD5</td>\n",
       "<td>rgb(255,239,213)</td>\n",
       "</tr>\n",
       "<tr>\n",
       "<td>14</td>\n",
       "<td style=\"background:moccasin;\"> </td>\n",
       "<td>moccasin</td>\n",
       "<td>#FFE4B5</td>\n",
       "<td>rgb(255,228,181)</td>\n",
       "</tr>\n",
       "<tr>\n",
       "<td>15</td>\n",
       "<td style=\"background:peachpuff;\"> </td>\n",
       "<td>peachpuff</td>\n",
       "<td>#FFDAB9</td>\n",
       "<td>rgb(255,218,185)</td>\n",
       "</tr>\n",
       "<tr>\n",
       "<td>16</td>\n",
       "<td style=\"background:palegoldenrod;\"> </td>\n",
       "<td>palegoldenrod</td>\n",
       "<td>#EEE8AA</td>\n",
       "<td>rgb(238,232,170)</td>\n",
       "</tr>\n",
       "<tr>\n",
       "<td>17</td>\n",
       "<td style=\"background:khaki;\"> </td>\n",
       "<td>khaki</td>\n",
       "<td>#F0E68C</td>\n",
       "<td>rgb(240,230,140)</td>\n",
       "</tr>\n",
       "<tr>\n",
       "<td>18</td>\n",
       "<td style=\"background:darkkhaki;\"> </td>\n",
       "<td>darkkhaki</td>\n",
       "<td>#BDB76B</td>\n",
       "<td>rgb(189,183,107)</td>\n",
       "</tr>\n",
       "<tr>\n",
       "<td>19</td>\n",
       "<td style=\"background:yellow;\"> </td>\n",
       "<td>yellow</td>\n",
       "<td>#FFFF00</td>\n",
       "<td>rgb(255,255,0)</td>\n",
       "</tr>\n",
       "<tr>\n",
       "<td>20</td>\n",
       "<td style=\"background:lawngreen;\"> </td>\n",
       "<td>lawngreen</td>\n",
       "<td>#7CFC00</td>\n",
       "<td>rgb(124,252,0)</td>\n",
       "</tr>\n",
       "<tr>\n",
       "<td>21</td>\n",
       "<td style=\"background:chartreuse;\"> </td>\n",
       "<td>chartreuse</td>\n",
       "<td>#7FFF00</td>\n",
       "<td>rgb(127,255,0)</td>\n",
       "</tr>\n",
       "<tr>\n",
       "<td>22</td>\n",
       "<td style=\"background:limegreen;\"> </td>\n",
       "<td>limegreen</td>\n",
       "<td>#32CD32</td>\n",
       "<td>rgb(50,205,50)</td>\n",
       "</tr>\n",
       "<tr>\n",
       "<td>23</td>\n",
       "<td style=\"background:lime;\"> </td>\n",
       "<td>lime</td>\n",
       "<td>#00FF00</td>\n",
       "<td>rgb(0.255.0)</td>\n",
       "</tr>\n",
       "<tr>\n",
       "<td>24</td>\n",
       "<td style=\"background:forestgreen;\"> </td>\n",
       "<td>forestgreen</td>\n",
       "<td>#228B22</td>\n",
       "<td>rgb(34,139,34)</td>\n",
       "</tr>\n",
       "<tr>\n",
       "<td>25</td>\n",
       "<td style=\"background:green;\"> </td>\n",
       "<td>green</td>\n",
       "<td>#008000</td>\n",
       "<td>rgb(0,128,0)</td>\n",
       "</tr>\n",
       "<tr>\n",
       "<td>26</td>\n",
       "<td style=\"background:powderblue;\"> </td>\n",
       "<td>powderblue</td>\n",
       "<td>#B0E0E6</td>\n",
       "<td>rgb(176,224,230)</td>\n",
       "</tr>\n",
       "<tr>\n",
       "<td>27</td>\n",
       "<td style=\"background:lightblue;\"> </td>\n",
       "<td>lightblue</td>\n",
       "<td>#ADD8E6</td>\n",
       "<td>rgb(173,216,230)</td>\n",
       "</tr>\n",
       "<tr>\n",
       "<td>28</td>\n",
       "<td style=\"background:lightskyblue;\"> </td>\n",
       "<td>lightskyblue</td>\n",
       "<td>#87CEFA</td>\n",
       "<td>rgb(135,206,250)</td>\n",
       "</tr>\n",
       "<tr>\n",
       "<td>29</td>\n",
       "<td style=\"background:skyblue;\"> </td>\n",
       "<td>skyblue</td>\n",
       "<td>#87CEEB</td>\n",
       "<td>rgb(135,206,235)</td>\n",
       "</tr>\n",
       "<tr>\n",
       "<td>30</td>\n",
       "<td style=\"background:deepskyblue;\"> </td>\n",
       "<td>deepskyblue</td>\n",
       "<td>#00BFFF</td>\n",
       "<td>rgb(0,191,255)</td>\n",
       "</tr>\n",
       "<tr>\n",
       "<td>31</td>\n",
       "<td style=\"background:lightsteelblue;\"> </td>\n",
       "<td>lightsteelblue</td>\n",
       "<td>#B0C4DE</td>\n",
       "<td>rgb(176,196,222)</td>\n",
       "</tr>\n",
       "<tr>\n",
       "<td>32</td>\n",
       "<td style=\"background:dodgerblue;\"> </td>\n",
       "<td>dodgerblue</td>\n",
       "<td>#1E90FF</td>\n",
       "<td>rgb(30,144,255)</td>\n",
       "</tr>\n",
       "</table>"
      ]
     },
     "execution_count": 70,
     "metadata": {},
     "output_type": "execute_result"
    }
   ],
   "source": [
    "table"
   ]
  },
  {
   "cell_type": "code",
   "execution_count": 84,
   "metadata": {},
   "outputs": [
    {
     "name": "stdout",
     "output_type": "stream",
     "text": [
      "Number  None Color Name None\n",
      "1 #FFA07A lightsalmon rgb(255,160,122)\n",
      "2 #FA8072 salmon rgb(250,128,114)\n",
      "3 #E9967A darksalmon rgb(233,150,122)\n",
      "4 #F08080 lightcoral rgb(240,128,128)\n",
      "5 #FF7F50 coral rgb(255,127,80)\n",
      "6 #FF6347 tomato rgb(255,99,71)\n",
      "7 #FF4500 orangered rgb(255,69,0)\n",
      "8 #FFD700 gold rgb(255,215,0)\n",
      "9 #FFA500 orange rgb(255,165,0)\n",
      "10 #FF8C00 darkorange rgb(255,140,0)\n",
      "11 #FFFFE0 lightyellow rgb(255,255,224)\n",
      "12 #FFFACD lemonchiffon rgb(255,250,205)\n",
      "13 #FFEFD5 papayawhip rgb(255,239,213)\n",
      "14 #FFE4B5 moccasin rgb(255,228,181)\n",
      "15 #FFDAB9 peachpuff rgb(255,218,185)\n",
      "16 #EEE8AA palegoldenrod rgb(238,232,170)\n",
      "17 #F0E68C khaki rgb(240,230,140)\n",
      "18 #BDB76B darkkhaki rgb(189,183,107)\n",
      "19 #FFFF00 yellow rgb(255,255,0)\n",
      "20 #7CFC00 lawngreen rgb(124,252,0)\n",
      "21 #7FFF00 chartreuse rgb(127,255,0)\n",
      "22 #32CD32 limegreen rgb(50,205,50)\n",
      "23 #00FF00 lime rgb(0.255.0)\n",
      "24 #228B22 forestgreen rgb(34,139,34)\n",
      "25 #008000 green rgb(0,128,0)\n",
      "26 #B0E0E6 powderblue rgb(176,224,230)\n",
      "27 #ADD8E6 lightblue rgb(173,216,230)\n",
      "28 #87CEFA lightskyblue rgb(135,206,250)\n",
      "29 #87CEEB skyblue rgb(135,206,235)\n",
      "30 #00BFFF deepskyblue rgb(0,191,255)\n",
      "31 #B0C4DE lightsteelblue rgb(176,196,222)\n",
      "32 #1E90FF dodgerblue rgb(30,144,255)\n"
     ]
    }
   ],
   "source": [
    "for row in table.find_all('tr'):\n",
    "    cols = row.find_all('td')\n",
    "    color_name = cols[2].string\n",
    "    color_code = cols[3].string\n",
    "    color_density = cols[4].string\n",
    "    color=cols[0].string\n",
    "    print(color,color_code,color_name,color_density)\n",
    "    "
   ]
  },
  {
   "cell_type": "code",
   "execution_count": 97,
   "metadata": {},
   "outputs": [
    {
     "name": "stdout",
     "output_type": "stream",
     "text": [
      "Number  ----- Color Name ------- Hex Code#RRGGBB ------- Decimal Code(R,G,B)\n",
      "1 ----- lightsalmon ------- #FFA07A ------- rgb(255,160,122)\n",
      "2 ----- salmon ------- #FA8072 ------- rgb(250,128,114)\n",
      "3 ----- darksalmon ------- #E9967A ------- rgb(233,150,122)\n",
      "4 ----- lightcoral ------- #F08080 ------- rgb(240,128,128)\n",
      "5 ----- coral ------- #FF7F50 ------- rgb(255,127,80)\n",
      "6 ----- tomato ------- #FF6347 ------- rgb(255,99,71)\n",
      "7 ----- orangered ------- #FF4500 ------- rgb(255,69,0)\n",
      "8 ----- gold ------- #FFD700 ------- rgb(255,215,0)\n",
      "9 ----- orange ------- #FFA500 ------- rgb(255,165,0)\n",
      "10 ----- darkorange ------- #FF8C00 ------- rgb(255,140,0)\n",
      "11 ----- lightyellow ------- #FFFFE0 ------- rgb(255,255,224)\n",
      "12 ----- lemonchiffon ------- #FFFACD ------- rgb(255,250,205)\n",
      "13 ----- papayawhip ------- #FFEFD5 ------- rgb(255,239,213)\n",
      "14 ----- moccasin ------- #FFE4B5 ------- rgb(255,228,181)\n",
      "15 ----- peachpuff ------- #FFDAB9 ------- rgb(255,218,185)\n",
      "16 ----- palegoldenrod ------- #EEE8AA ------- rgb(238,232,170)\n",
      "17 ----- khaki ------- #F0E68C ------- rgb(240,230,140)\n",
      "18 ----- darkkhaki ------- #BDB76B ------- rgb(189,183,107)\n",
      "19 ----- yellow ------- #FFFF00 ------- rgb(255,255,0)\n",
      "20 ----- lawngreen ------- #7CFC00 ------- rgb(124,252,0)\n",
      "21 ----- chartreuse ------- #7FFF00 ------- rgb(127,255,0)\n",
      "22 ----- limegreen ------- #32CD32 ------- rgb(50,205,50)\n",
      "23 ----- lime ------- #00FF00 ------- rgb(0.255.0)\n",
      "24 ----- forestgreen ------- #228B22 ------- rgb(34,139,34)\n",
      "25 ----- green ------- #008000 ------- rgb(0,128,0)\n",
      "26 ----- powderblue ------- #B0E0E6 ------- rgb(176,224,230)\n",
      "27 ----- lightblue ------- #ADD8E6 ------- rgb(173,216,230)\n",
      "28 ----- lightskyblue ------- #87CEFA ------- rgb(135,206,250)\n",
      "29 ----- skyblue ------- #87CEEB ------- rgb(135,206,235)\n",
      "30 ----- deepskyblue ------- #00BFFF ------- rgb(0,191,255)\n",
      "31 ----- lightsteelblue ------- #B0C4DE ------- rgb(176,196,222)\n",
      "32 ----- dodgerblue ------- #1E90FF ------- rgb(30,144,255)\n"
     ]
    }
   ],
   "source": [
    "\n",
    "for row in table.find_all('tr'):\n",
    "    cols = row.find_all('td')\n",
    "    color_name = cols[2].text\n",
    "    color_code = cols[3].text\n",
    "    color_density = cols[4].text\n",
    "    color=cols[0].text\n",
    "    print(color,\"-----\",color_name,\"-------\",color_code,\"-------\",color_density)\n",
    "    \n"
   ]
  },
  {
   "cell_type": "code",
   "execution_count": null,
   "metadata": {},
   "outputs": [],
   "source": []
  },
  {
   "cell_type": "code",
   "execution_count": null,
   "metadata": {},
   "outputs": [],
   "source": []
  },
  {
   "cell_type": "code",
   "execution_count": null,
   "metadata": {},
   "outputs": [],
   "source": []
  },
  {
   "cell_type": "code",
   "execution_count": null,
   "metadata": {},
   "outputs": [],
   "source": []
  },
  {
   "cell_type": "code",
   "execution_count": 117,
   "metadata": {},
   "outputs": [
    {
     "name": "stdout",
     "output_type": "stream",
     "text": [
      "      Color      Color Name       Color Code        Color Density\n",
      "0   Number       Color Name  Hex Code#RRGGBB  Decimal Code(R,G,B)\n",
      "1         1     lightsalmon          #FFA07A     rgb(255,160,122)\n",
      "2         2          salmon          #FA8072     rgb(250,128,114)\n",
      "3         3      darksalmon          #E9967A     rgb(233,150,122)\n",
      "4         4      lightcoral          #F08080     rgb(240,128,128)\n",
      "5         5           coral          #FF7F50      rgb(255,127,80)\n",
      "6         6          tomato          #FF6347       rgb(255,99,71)\n",
      "7         7       orangered          #FF4500        rgb(255,69,0)\n",
      "8         8            gold          #FFD700       rgb(255,215,0)\n",
      "9         9          orange          #FFA500       rgb(255,165,0)\n",
      "10       10      darkorange          #FF8C00       rgb(255,140,0)\n",
      "11       11     lightyellow          #FFFFE0     rgb(255,255,224)\n",
      "12       12    lemonchiffon          #FFFACD     rgb(255,250,205)\n",
      "13       13      papayawhip          #FFEFD5     rgb(255,239,213)\n",
      "14       14        moccasin          #FFE4B5     rgb(255,228,181)\n",
      "15       15       peachpuff          #FFDAB9     rgb(255,218,185)\n",
      "16       16   palegoldenrod          #EEE8AA     rgb(238,232,170)\n",
      "17       17           khaki          #F0E68C     rgb(240,230,140)\n",
      "18       18       darkkhaki          #BDB76B     rgb(189,183,107)\n",
      "19       19          yellow          #FFFF00       rgb(255,255,0)\n",
      "20       20       lawngreen          #7CFC00       rgb(124,252,0)\n",
      "21       21      chartreuse          #7FFF00       rgb(127,255,0)\n",
      "22       22       limegreen          #32CD32       rgb(50,205,50)\n",
      "23       23            lime          #00FF00         rgb(0.255.0)\n",
      "24       24     forestgreen          #228B22       rgb(34,139,34)\n",
      "25       25           green          #008000         rgb(0,128,0)\n",
      "26       26      powderblue          #B0E0E6     rgb(176,224,230)\n",
      "27       27       lightblue          #ADD8E6     rgb(173,216,230)\n",
      "28       28    lightskyblue          #87CEFA     rgb(135,206,250)\n",
      "29       29         skyblue          #87CEEB     rgb(135,206,235)\n",
      "30       30     deepskyblue          #00BFFF       rgb(0,191,255)\n",
      "31       31  lightsteelblue          #B0C4DE     rgb(176,196,222)\n",
      "32       32      dodgerblue          #1E90FF      rgb(30,144,255)\n"
     ]
    }
   ],
   "source": [
    "import pandas as pd\n",
    "\n",
    "# Assuming 'table' is your HTML table element\n",
    "\n",
    "data = []\n",
    "for row in table.find_all('tr'):\n",
    "    cols = row.find_all('td')\n",
    "    data.append({\n",
    "        'Color': cols[0].text,\n",
    "        'Color Name': cols[2].text,\n",
    "        'Color Code': cols[3].text,\n",
    "        'Color Density': cols[4].text\n",
    "    })\n",
    "\n",
    "df = pd.DataFrame(data)\n",
    "print(df)"
   ]
  },
  {
   "cell_type": "code",
   "execution_count": 120,
   "metadata": {},
   "outputs": [
    {
     "data": {
      "text/html": [
       "<div>\n",
       "<style scoped>\n",
       "    .dataframe tbody tr th:only-of-type {\n",
       "        vertical-align: middle;\n",
       "    }\n",
       "\n",
       "    .dataframe tbody tr th {\n",
       "        vertical-align: top;\n",
       "    }\n",
       "\n",
       "    .dataframe thead th {\n",
       "        text-align: right;\n",
       "    }\n",
       "</style>\n",
       "<table border=\"1\" class=\"dataframe\">\n",
       "  <thead>\n",
       "    <tr style=\"text-align: right;\">\n",
       "      <th></th>\n",
       "      <th>Color</th>\n",
       "      <th>Color Name</th>\n",
       "      <th>Color Code</th>\n",
       "      <th>Color Density</th>\n",
       "    </tr>\n",
       "  </thead>\n",
       "  <tbody>\n",
       "    <tr>\n",
       "      <th>0</th>\n",
       "      <td>Number</td>\n",
       "      <td>Color Name</td>\n",
       "      <td>Hex Code#RRGGBB</td>\n",
       "      <td>Decimal Code(R,G,B)</td>\n",
       "    </tr>\n",
       "    <tr>\n",
       "      <th>1</th>\n",
       "      <td>1</td>\n",
       "      <td>lightsalmon</td>\n",
       "      <td>#FFA07A</td>\n",
       "      <td>rgb(255,160,122)</td>\n",
       "    </tr>\n",
       "    <tr>\n",
       "      <th>2</th>\n",
       "      <td>2</td>\n",
       "      <td>salmon</td>\n",
       "      <td>#FA8072</td>\n",
       "      <td>rgb(250,128,114)</td>\n",
       "    </tr>\n",
       "    <tr>\n",
       "      <th>3</th>\n",
       "      <td>3</td>\n",
       "      <td>darksalmon</td>\n",
       "      <td>#E9967A</td>\n",
       "      <td>rgb(233,150,122)</td>\n",
       "    </tr>\n",
       "    <tr>\n",
       "      <th>4</th>\n",
       "      <td>4</td>\n",
       "      <td>lightcoral</td>\n",
       "      <td>#F08080</td>\n",
       "      <td>rgb(240,128,128)</td>\n",
       "    </tr>\n",
       "    <tr>\n",
       "      <th>5</th>\n",
       "      <td>5</td>\n",
       "      <td>coral</td>\n",
       "      <td>#FF7F50</td>\n",
       "      <td>rgb(255,127,80)</td>\n",
       "    </tr>\n",
       "    <tr>\n",
       "      <th>6</th>\n",
       "      <td>6</td>\n",
       "      <td>tomato</td>\n",
       "      <td>#FF6347</td>\n",
       "      <td>rgb(255,99,71)</td>\n",
       "    </tr>\n",
       "    <tr>\n",
       "      <th>7</th>\n",
       "      <td>7</td>\n",
       "      <td>orangered</td>\n",
       "      <td>#FF4500</td>\n",
       "      <td>rgb(255,69,0)</td>\n",
       "    </tr>\n",
       "    <tr>\n",
       "      <th>8</th>\n",
       "      <td>8</td>\n",
       "      <td>gold</td>\n",
       "      <td>#FFD700</td>\n",
       "      <td>rgb(255,215,0)</td>\n",
       "    </tr>\n",
       "    <tr>\n",
       "      <th>9</th>\n",
       "      <td>9</td>\n",
       "      <td>orange</td>\n",
       "      <td>#FFA500</td>\n",
       "      <td>rgb(255,165,0)</td>\n",
       "    </tr>\n",
       "    <tr>\n",
       "      <th>10</th>\n",
       "      <td>10</td>\n",
       "      <td>darkorange</td>\n",
       "      <td>#FF8C00</td>\n",
       "      <td>rgb(255,140,0)</td>\n",
       "    </tr>\n",
       "    <tr>\n",
       "      <th>11</th>\n",
       "      <td>11</td>\n",
       "      <td>lightyellow</td>\n",
       "      <td>#FFFFE0</td>\n",
       "      <td>rgb(255,255,224)</td>\n",
       "    </tr>\n",
       "    <tr>\n",
       "      <th>12</th>\n",
       "      <td>12</td>\n",
       "      <td>lemonchiffon</td>\n",
       "      <td>#FFFACD</td>\n",
       "      <td>rgb(255,250,205)</td>\n",
       "    </tr>\n",
       "    <tr>\n",
       "      <th>13</th>\n",
       "      <td>13</td>\n",
       "      <td>papayawhip</td>\n",
       "      <td>#FFEFD5</td>\n",
       "      <td>rgb(255,239,213)</td>\n",
       "    </tr>\n",
       "    <tr>\n",
       "      <th>14</th>\n",
       "      <td>14</td>\n",
       "      <td>moccasin</td>\n",
       "      <td>#FFE4B5</td>\n",
       "      <td>rgb(255,228,181)</td>\n",
       "    </tr>\n",
       "    <tr>\n",
       "      <th>15</th>\n",
       "      <td>15</td>\n",
       "      <td>peachpuff</td>\n",
       "      <td>#FFDAB9</td>\n",
       "      <td>rgb(255,218,185)</td>\n",
       "    </tr>\n",
       "    <tr>\n",
       "      <th>16</th>\n",
       "      <td>16</td>\n",
       "      <td>palegoldenrod</td>\n",
       "      <td>#EEE8AA</td>\n",
       "      <td>rgb(238,232,170)</td>\n",
       "    </tr>\n",
       "    <tr>\n",
       "      <th>17</th>\n",
       "      <td>17</td>\n",
       "      <td>khaki</td>\n",
       "      <td>#F0E68C</td>\n",
       "      <td>rgb(240,230,140)</td>\n",
       "    </tr>\n",
       "    <tr>\n",
       "      <th>18</th>\n",
       "      <td>18</td>\n",
       "      <td>darkkhaki</td>\n",
       "      <td>#BDB76B</td>\n",
       "      <td>rgb(189,183,107)</td>\n",
       "    </tr>\n",
       "    <tr>\n",
       "      <th>19</th>\n",
       "      <td>19</td>\n",
       "      <td>yellow</td>\n",
       "      <td>#FFFF00</td>\n",
       "      <td>rgb(255,255,0)</td>\n",
       "    </tr>\n",
       "    <tr>\n",
       "      <th>20</th>\n",
       "      <td>20</td>\n",
       "      <td>lawngreen</td>\n",
       "      <td>#7CFC00</td>\n",
       "      <td>rgb(124,252,0)</td>\n",
       "    </tr>\n",
       "    <tr>\n",
       "      <th>21</th>\n",
       "      <td>21</td>\n",
       "      <td>chartreuse</td>\n",
       "      <td>#7FFF00</td>\n",
       "      <td>rgb(127,255,0)</td>\n",
       "    </tr>\n",
       "    <tr>\n",
       "      <th>22</th>\n",
       "      <td>22</td>\n",
       "      <td>limegreen</td>\n",
       "      <td>#32CD32</td>\n",
       "      <td>rgb(50,205,50)</td>\n",
       "    </tr>\n",
       "    <tr>\n",
       "      <th>23</th>\n",
       "      <td>23</td>\n",
       "      <td>lime</td>\n",
       "      <td>#00FF00</td>\n",
       "      <td>rgb(0.255.0)</td>\n",
       "    </tr>\n",
       "    <tr>\n",
       "      <th>24</th>\n",
       "      <td>24</td>\n",
       "      <td>forestgreen</td>\n",
       "      <td>#228B22</td>\n",
       "      <td>rgb(34,139,34)</td>\n",
       "    </tr>\n",
       "    <tr>\n",
       "      <th>25</th>\n",
       "      <td>25</td>\n",
       "      <td>green</td>\n",
       "      <td>#008000</td>\n",
       "      <td>rgb(0,128,0)</td>\n",
       "    </tr>\n",
       "    <tr>\n",
       "      <th>26</th>\n",
       "      <td>26</td>\n",
       "      <td>powderblue</td>\n",
       "      <td>#B0E0E6</td>\n",
       "      <td>rgb(176,224,230)</td>\n",
       "    </tr>\n",
       "    <tr>\n",
       "      <th>27</th>\n",
       "      <td>27</td>\n",
       "      <td>lightblue</td>\n",
       "      <td>#ADD8E6</td>\n",
       "      <td>rgb(173,216,230)</td>\n",
       "    </tr>\n",
       "    <tr>\n",
       "      <th>28</th>\n",
       "      <td>28</td>\n",
       "      <td>lightskyblue</td>\n",
       "      <td>#87CEFA</td>\n",
       "      <td>rgb(135,206,250)</td>\n",
       "    </tr>\n",
       "    <tr>\n",
       "      <th>29</th>\n",
       "      <td>29</td>\n",
       "      <td>skyblue</td>\n",
       "      <td>#87CEEB</td>\n",
       "      <td>rgb(135,206,235)</td>\n",
       "    </tr>\n",
       "    <tr>\n",
       "      <th>30</th>\n",
       "      <td>30</td>\n",
       "      <td>deepskyblue</td>\n",
       "      <td>#00BFFF</td>\n",
       "      <td>rgb(0,191,255)</td>\n",
       "    </tr>\n",
       "    <tr>\n",
       "      <th>31</th>\n",
       "      <td>31</td>\n",
       "      <td>lightsteelblue</td>\n",
       "      <td>#B0C4DE</td>\n",
       "      <td>rgb(176,196,222)</td>\n",
       "    </tr>\n",
       "    <tr>\n",
       "      <th>32</th>\n",
       "      <td>32</td>\n",
       "      <td>dodgerblue</td>\n",
       "      <td>#1E90FF</td>\n",
       "      <td>rgb(30,144,255)</td>\n",
       "    </tr>\n",
       "  </tbody>\n",
       "</table>\n",
       "</div>"
      ],
      "text/plain": [
       "      Color      Color Name       Color Code        Color Density\n",
       "0   Number       Color Name  Hex Code#RRGGBB  Decimal Code(R,G,B)\n",
       "1         1     lightsalmon          #FFA07A     rgb(255,160,122)\n",
       "2         2          salmon          #FA8072     rgb(250,128,114)\n",
       "3         3      darksalmon          #E9967A     rgb(233,150,122)\n",
       "4         4      lightcoral          #F08080     rgb(240,128,128)\n",
       "5         5           coral          #FF7F50      rgb(255,127,80)\n",
       "6         6          tomato          #FF6347       rgb(255,99,71)\n",
       "7         7       orangered          #FF4500        rgb(255,69,0)\n",
       "8         8            gold          #FFD700       rgb(255,215,0)\n",
       "9         9          orange          #FFA500       rgb(255,165,0)\n",
       "10       10      darkorange          #FF8C00       rgb(255,140,0)\n",
       "11       11     lightyellow          #FFFFE0     rgb(255,255,224)\n",
       "12       12    lemonchiffon          #FFFACD     rgb(255,250,205)\n",
       "13       13      papayawhip          #FFEFD5     rgb(255,239,213)\n",
       "14       14        moccasin          #FFE4B5     rgb(255,228,181)\n",
       "15       15       peachpuff          #FFDAB9     rgb(255,218,185)\n",
       "16       16   palegoldenrod          #EEE8AA     rgb(238,232,170)\n",
       "17       17           khaki          #F0E68C     rgb(240,230,140)\n",
       "18       18       darkkhaki          #BDB76B     rgb(189,183,107)\n",
       "19       19          yellow          #FFFF00       rgb(255,255,0)\n",
       "20       20       lawngreen          #7CFC00       rgb(124,252,0)\n",
       "21       21      chartreuse          #7FFF00       rgb(127,255,0)\n",
       "22       22       limegreen          #32CD32       rgb(50,205,50)\n",
       "23       23            lime          #00FF00         rgb(0.255.0)\n",
       "24       24     forestgreen          #228B22       rgb(34,139,34)\n",
       "25       25           green          #008000         rgb(0,128,0)\n",
       "26       26      powderblue          #B0E0E6     rgb(176,224,230)\n",
       "27       27       lightblue          #ADD8E6     rgb(173,216,230)\n",
       "28       28    lightskyblue          #87CEFA     rgb(135,206,250)\n",
       "29       29         skyblue          #87CEEB     rgb(135,206,235)\n",
       "30       30     deepskyblue          #00BFFF       rgb(0,191,255)\n",
       "31       31  lightsteelblue          #B0C4DE     rgb(176,196,222)\n",
       "32       32      dodgerblue          #1E90FF      rgb(30,144,255)"
      ]
     },
     "execution_count": 120,
     "metadata": {},
     "output_type": "execute_result"
    }
   ],
   "source": [
    "df"
   ]
  },
  {
   "cell_type": "code",
   "execution_count": null,
   "metadata": {},
   "outputs": [],
   "source": []
  }
 ],
 "metadata": {
  "kernelspec": {
   "display_name": "Python 3 (ipykernel)",
   "language": "python",
   "name": "python3"
  },
  "language_info": {
   "codemirror_mode": {
    "name": "ipython",
    "version": 3
   },
   "file_extension": ".py",
   "mimetype": "text/x-python",
   "name": "python",
   "nbconvert_exporter": "python",
   "pygments_lexer": "ipython3",
   "version": "3.12.5"
  }
 },
 "nbformat": 4,
 "nbformat_minor": 4
}
