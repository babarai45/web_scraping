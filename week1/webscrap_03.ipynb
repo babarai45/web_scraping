{
 "cells": [
  {
   "cell_type": "markdown",
   "id": "7b0fba09-1cf1-45af-b08a-278fb37ab9e9",
   "metadata": {},
   "source": [
    "## well come web scrapping class :03"
   ]
  },
  {
   "cell_type": "code",
   "execution_count": 1,
   "id": "8f0802f8-9152-4bc7-8562-5d88e18f0daf",
   "metadata": {},
   "outputs": [],
   "source": [
    "# import required libraries "
   ]
  },
  {
   "cell_type": "code",
   "execution_count": 2,
   "id": "c8cb5193-51db-400f-a12a-6fe385df7817",
   "metadata": {},
   "outputs": [],
   "source": [
    "import requests\n",
    "from bs4 import BeautifulSoup "
   ]
  },
  {
   "cell_type": "code",
   "execution_count": 3,
   "id": "7df4ae48-072d-4c79-89d1-0903a4a913ec",
   "metadata": {},
   "outputs": [],
   "source": [
    "# your web urls to get data or websites"
   ]
  },
  {
   "cell_type": "code",
   "execution_count": 85,
   "id": "2b62ff03-17c5-4028-8ed6-5ab5631b1129",
   "metadata": {},
   "outputs": [],
   "source": [
    "# url = 'https://www.zillow.com/'"
   ]
  },
  {
   "cell_type": "code",
   "execution_count": 86,
   "id": "b92e95ec-caed-4c57-ba06-b808a8e6a229",
   "metadata": {},
   "outputs": [],
   "source": [
    "# check url connectivity status "
   ]
  },
  {
   "cell_type": "code",
   "execution_count": 87,
   "id": "40650342-2815-4a2b-b911-98762b7649b4",
   "metadata": {},
   "outputs": [],
   "source": [
    "# response = requests.get(url)"
   ]
  },
  {
   "cell_type": "code",
   "execution_count": 88,
   "id": "a973ff2d-48cd-42d2-8330-b9b1bb318d51",
   "metadata": {},
   "outputs": [
    {
     "data": {
      "text/plain": [
       "403"
      ]
     },
     "execution_count": 88,
     "metadata": {},
     "output_type": "execute_result"
    }
   ],
   "source": [
    "# response.status_code"
   ]
  },
  {
   "cell_type": "code",
   "execution_count": 89,
   "id": "5514954e-85a1-473f-8ae5-a538b671a510",
   "metadata": {},
   "outputs": [
    {
     "data": {
      "text/plain": [
       "'Forbidden'"
      ]
     },
     "execution_count": 89,
     "metadata": {},
     "output_type": "execute_result"
    }
   ],
   "source": [
    "# response.reason"
   ]
  },
  {
   "cell_type": "code",
   "execution_count": 90,
   "id": "78b6e935-5c01-46a3-935e-4ec23622cf1c",
   "metadata": {},
   "outputs": [
    {
     "data": {
      "text/plain": [
       "False"
      ]
     },
     "execution_count": 90,
     "metadata": {},
     "output_type": "execute_result"
    }
   ],
   "source": [
    "# response.ok"
   ]
  },
  {
   "cell_type": "code",
   "execution_count": null,
   "id": "0ec98878-1373-44c8-a994-7110b876a54b",
   "metadata": {},
   "outputs": [],
   "source": []
  },
  {
   "cell_type": "code",
   "execution_count": null,
   "id": "ce8fbf52-29cb-41ae-a30e-9b74a67de6bd",
   "metadata": {},
   "outputs": [],
   "source": []
  },
  {
   "cell_type": "code",
   "execution_count": null,
   "id": "b4f8207f-497a-4717-bd1f-e444abacba7b",
   "metadata": {},
   "outputs": [],
   "source": []
  },
  {
   "cell_type": "code",
   "execution_count": null,
   "id": "3944a23f-0da6-4b3f-aed3-bbe5eefc5754",
   "metadata": {},
   "outputs": [],
   "source": []
  },
  {
   "cell_type": "code",
   "execution_count": null,
   "id": "c20e3eb1-d857-4fbc-ad7a-750b78c7af6e",
   "metadata": {},
   "outputs": [],
   "source": []
  },
  {
   "cell_type": "code",
   "execution_count": null,
   "id": "e2830fb2-2744-4510-b5c2-d09bed005e30",
   "metadata": {},
   "outputs": [],
   "source": []
  },
  {
   "cell_type": "code",
   "execution_count": 17,
   "id": "6eaed5d9-bf80-4694-a104-0c504028da98",
   "metadata": {},
   "outputs": [],
   "source": [
    "# so finaly this web not allow to scraping data "
   ]
  },
  {
   "cell_type": "markdown",
   "id": "6d62f985-78dc-4c2d-bbff-5931fe8f6cb3",
   "metadata": {},
   "source": [
    "### Try another website "
   ]
  },
  {
   "cell_type": "code",
   "execution_count": 46,
   "id": "afea68d5-b8dd-4147-bc12-dcf8ec7334cb",
   "metadata": {},
   "outputs": [],
   "source": [
    "url1='https://www.zameen.com/Homes/Lahore-1-1.html'   #zammen.com"
   ]
  },
  {
   "cell_type": "code",
   "execution_count": 47,
   "id": "ab9d3f93-2205-49fd-bb5b-3b36bbe929cc",
   "metadata": {},
   "outputs": [],
   "source": [
    "response = requests.get(url1)       # get"
   ]
  },
  {
   "cell_type": "code",
   "execution_count": 48,
   "id": "6d661e48-5747-4697-a990-89b25343cf6a",
   "metadata": {},
   "outputs": [
    {
     "data": {
      "text/plain": [
       "200"
      ]
     },
     "execution_count": 48,
     "metadata": {},
     "output_type": "execute_result"
    }
   ],
   "source": [
    "response.status_code   #  instance of requests "
   ]
  },
  {
   "cell_type": "code",
   "execution_count": 51,
   "id": "cdafc0ae-79fd-44e3-b110-e7dc8314a1fb",
   "metadata": {},
   "outputs": [
    {
     "data": {
      "text/plain": [
       "<requests.adapters.HTTPAdapter at 0x1775ab29f70>"
      ]
     },
     "execution_count": 51,
     "metadata": {},
     "output_type": "execute_result"
    }
   ],
   "source": [
    "response.connection"
   ]
  },
  {
   "cell_type": "code",
   "execution_count": 50,
   "id": "78feecc4-e1c8-44d3-9b0e-4ff450b79932",
   "metadata": {},
   "outputs": [],
   "source": [
    "# response.json?"
   ]
  },
  {
   "cell_type": "code",
   "execution_count": 36,
   "id": "4db19772-9315-4353-94cb-530fa51f45c5",
   "metadata": {},
   "outputs": [],
   "source": [
    "# response.text  #  show all text data if available"
   ]
  },
  {
   "cell_type": "code",
   "execution_count": 38,
   "id": "3aaa3763-86f7-400d-ab29-edaead9a63a1",
   "metadata": {},
   "outputs": [
    {
     "data": {
      "text/plain": [
       "<RequestsCookieJar[Cookie(version=0, name='anonymous_session_id', value='d928f4f4-d910-4a7e-a292-2df5ad37ec87', port=None, port_specified=False, domain='.zameen.com', domain_specified=True, domain_initial_dot=False, path='/', path_specified=True, secure=True, expires=None, discard=True, comment=None, comment_url=None, rest={}, rfc2109=False), Cookie(version=0, name='device_id', value='m1j5pvr1dwtxhn1nt', port=None, port_specified=False, domain='.zameen.com', domain_specified=True, domain_initial_dot=False, path='/', path_specified=True, secure=True, expires=1758882854, discard=False, comment=None, comment_url=None, rest={}, rfc2109=False)]>"
      ]
     },
     "execution_count": 38,
     "metadata": {},
     "output_type": "execute_result"
    }
   ],
   "source": [
    "response.cookies # show cookie data "
   ]
  },
  {
   "cell_type": "code",
   "execution_count": 41,
   "id": "1797c98f-c6f4-442e-a040-e407c6655cac",
   "metadata": {},
   "outputs": [
    {
     "data": {
      "text/plain": [
       "'utf-8'"
      ]
     },
     "execution_count": 41,
     "metadata": {},
     "output_type": "execute_result"
    }
   ],
   "source": [
    "response.encoding"
   ]
  },
  {
   "cell_type": "code",
   "execution_count": 52,
   "id": "b5f73b44-5f16-4e98-9a17-dc707190f565",
   "metadata": {},
   "outputs": [],
   "source": [
    "# response.close used for close connectivity\n",
    "# response.close"
   ]
  },
  {
   "cell_type": "code",
   "execution_count": 53,
   "id": "7aaf88b8-817f-4882-a551-561d2bad58fc",
   "metadata": {},
   "outputs": [
    {
     "data": {
      "text/plain": [
       "{'Date': 'Thu, 26 Sep 2024 10:45:45 GMT', 'Content-Type': 'text/html;charset=utf-8', 'Transfer-Encoding': 'chunked', 'Connection': 'keep-alive', 'set-cookie': 'anonymous_session_id=8af4db8e-6ba0-49f7-8567-2d2a683da1c4; Domain=zameen.com; Path=/; Secure, device_id=m1j64npf2hy1fhn7b; Max-Age=31536000; Domain=zameen.com; Path=/; Expires=Fri, 26 Sep 2025 10:45:44 GMT; Secure', 'Cache-Control': 'max-age=1200', 'vary': 'Accept-Encoding, Cookie', 'content-security-policy': 'frame-ancestors https://www.zameen.com', 'Content-Encoding': 'gzip', 'strict-transport-security': 'max-age=63072000; includeSubDomains', 'CF-Cache-Status': 'DYNAMIC', 'Server': 'cloudflare', 'CF-RAY': '8c92aa8ac9ce4f88-LHE'}"
      ]
     },
     "execution_count": 53,
     "metadata": {},
     "output_type": "execute_result"
    }
   ],
   "source": [
    "response.headers"
   ]
  },
  {
   "cell_type": "code",
   "execution_count": 62,
   "id": "e60e8ba9-a29a-4399-9e55-a921ce41a1bb",
   "metadata": {},
   "outputs": [],
   "source": [
    "# response.is_permanent_redirect?"
   ]
  },
  {
   "cell_type": "code",
   "execution_count": 64,
   "id": "12414521-2267-4d8b-9d3c-e970aad43061",
   "metadata": {},
   "outputs": [
    {
     "data": {
      "text/plain": [
       "\u001b[1;31mType:\u001b[0m        property\n",
       "\u001b[1;31mString form:\u001b[0m <property object at 0x000001775A39F650>\n",
       "\u001b[1;31mDocstring:\u001b[0m  \n",
       "True if this Response is a well-formed HTTP redirect that could have\n",
       "been processed automatically (by :meth:`Session.resolve_redirects`)."
      ]
     },
     "metadata": {},
     "output_type": "display_data"
    }
   ],
   "source": [
    "response.is_redirect?"
   ]
  },
  {
   "cell_type": "code",
   "execution_count": 66,
   "id": "1c7bc635-53d2-4e5a-ab02-c4eb1323ae8a",
   "metadata": {},
   "outputs": [
    {
     "data": {
      "text/plain": [
       "'https://www.zameen.com/Homes/Lahore-1-1.html'"
      ]
     },
     "execution_count": 66,
     "metadata": {},
     "output_type": "execute_result"
    }
   ],
   "source": [
    "response.url  # to show your own url"
   ]
  },
  {
   "cell_type": "code",
   "execution_count": 68,
   "id": "69188e08-5927-434b-b427-5be7bc95c1e7",
   "metadata": {},
   "outputs": [
    {
     "data": {
      "text/plain": [
       "<bound method Response.iter_content of <Response [200]>>"
      ]
     },
     "execution_count": 68,
     "metadata": {},
     "output_type": "execute_result"
    }
   ],
   "source": [
    "response.iter_content"
   ]
  },
  {
   "cell_type": "code",
   "execution_count": 70,
   "id": "2fd8d708-6d7e-494a-b758-243768a4b707",
   "metadata": {},
   "outputs": [
    {
     "data": {
      "text/plain": [
       "\u001b[1;31mType:\u001b[0m        property\n",
       "\u001b[1;31mString form:\u001b[0m <property object at 0x000001775A39F740>\n",
       "\u001b[1;31mDocstring:\u001b[0m   Returns a PreparedRequest for the next request in a redirect chain, if there is one."
      ]
     },
     "metadata": {},
     "output_type": "display_data"
    }
   ],
   "source": [
    "response.next?"
   ]
  },
  {
   "cell_type": "code",
   "execution_count": 71,
   "id": "93f9152f-c172-4eb5-a8a5-7e8f87649f28",
   "metadata": {},
   "outputs": [
    {
     "data": {
      "text/plain": [
       "True"
      ]
     },
     "execution_count": 71,
     "metadata": {},
     "output_type": "execute_result"
    }
   ],
   "source": [
    "response.ok"
   ]
  },
  {
   "cell_type": "code",
   "execution_count": 72,
   "id": "fc4677fc-5d91-4a70-9864-eafb80203869",
   "metadata": {},
   "outputs": [
    {
     "data": {
      "text/plain": [
       "<bound method Response.raise_for_status of <Response [200]>>"
      ]
     },
     "execution_count": 72,
     "metadata": {},
     "output_type": "execute_result"
    }
   ],
   "source": [
    "response.raise_for_status"
   ]
  },
  {
   "cell_type": "code",
   "execution_count": 82,
   "id": "12eed4e8-7c3f-475b-9828-5df72d21aadb",
   "metadata": {},
   "outputs": [
    {
     "data": {
      "text/plain": [
       "<urllib3.response.HTTPResponse at 0x1775add49d0>"
      ]
     },
     "execution_count": 82,
     "metadata": {},
     "output_type": "execute_result"
    }
   ],
   "source": [
    "response.raw\n"
   ]
  },
  {
   "cell_type": "code",
   "execution_count": 83,
   "id": "3a4d9f4a-d515-4215-a079-dd1ecbe1615a",
   "metadata": {},
   "outputs": [
    {
     "data": {
      "text/plain": [
       "'OK'"
      ]
     },
     "execution_count": 83,
     "metadata": {},
     "output_type": "execute_result"
    }
   ],
   "source": [
    "response.reason"
   ]
  },
  {
   "cell_type": "code",
   "execution_count": 84,
   "id": "dd3a9f23-f954-4785-8c81-89cd3325aa47",
   "metadata": {},
   "outputs": [
    {
     "data": {
      "text/plain": [
       "<PreparedRequest [GET]>"
      ]
     },
     "execution_count": 84,
     "metadata": {},
     "output_type": "execute_result"
    }
   ],
   "source": [
    "response.request"
   ]
  },
  {
   "cell_type": "code",
   "execution_count": 92,
   "id": "0d002bde-bb84-412b-b86b-cd381de972ff",
   "metadata": {},
   "outputs": [
    {
     "data": {
      "text/plain": [
       "\u001b[1;31mType:\u001b[0m        module\n",
       "\u001b[1;31mString form:\u001b[0m <module 'requests.adapters' from 'C:\\\\Users\\\\M-Babar-Ai\\\\anaconda3\\\\Lib\\\\site-packages\\\\requests\\\\adapters.py'>\n",
       "\u001b[1;31mFile:\u001b[0m        c:\\users\\m-babar-ai\\anaconda3\\lib\\site-packages\\requests\\adapters.py\n",
       "\u001b[1;31mDocstring:\u001b[0m  \n",
       "requests.adapters\n",
       "~~~~~~~~~~~~~~~~~\n",
       "\n",
       "This module contains the transport adapters that Requests uses to define\n",
       "and maintain connections."
      ]
     },
     "metadata": {},
     "output_type": "display_data"
    }
   ],
   "source": [
    "requests.adapters?"
   ]
  },
  {
   "cell_type": "code",
   "execution_count": 93,
   "id": "d3393e01-0471-4e41-8787-0837ed3d61bf",
   "metadata": {},
   "outputs": [
    {
     "data": {
      "text/plain": [
       "<module 'requests.api' from 'C:\\\\Users\\\\M-Babar-Ai\\\\anaconda3\\\\Lib\\\\site-packages\\\\requests\\\\api.py'>"
      ]
     },
     "execution_count": 93,
     "metadata": {},
     "output_type": "execute_result"
    }
   ],
   "source": [
    "requests.api"
   ]
  },
  {
   "cell_type": "code",
   "execution_count": 95,
   "id": "883c5c89-a2ea-466f-a72d-7810c4c0c5bb",
   "metadata": {},
   "outputs": [],
   "source": [
    "s=requests.session()"
   ]
  },
  {
   "cell_type": "code",
   "execution_count": 96,
   "id": "83760128-992d-4ff6-933a-dd1112b1bc2e",
   "metadata": {},
   "outputs": [
    {
     "data": {
      "text/plain": [
       "<Response [200]>"
      ]
     },
     "execution_count": 96,
     "metadata": {},
     "output_type": "execute_result"
    }
   ],
   "source": [
    "s.get('https://www.zameen.com/Homes/Lahore-1-1.html')"
   ]
  },
  {
   "cell_type": "code",
   "execution_count": 97,
   "id": "e2e18342-300b-4898-8312-bd31a0967365",
   "metadata": {},
   "outputs": [
    {
     "data": {
      "text/plain": [
       "<requests.sessions.Session at 0x1775aa03050>"
      ]
     },
     "execution_count": 97,
     "metadata": {},
     "output_type": "execute_result"
    }
   ],
   "source": [
    "s"
   ]
  },
  {
   "cell_type": "code",
   "execution_count": 105,
   "id": "8210a44c-2ab5-4805-b807-0fe967b62f0e",
   "metadata": {},
   "outputs": [],
   "source": [
    "s.auth=('user','pass')"
   ]
  },
  {
   "cell_type": "code",
   "execution_count": 106,
   "id": "53db6a13-7999-4942-8344-bde45e134b5d",
   "metadata": {},
   "outputs": [
    {
     "data": {
      "text/plain": [
       "True"
      ]
     },
     "execution_count": 106,
     "metadata": {},
     "output_type": "execute_result"
    }
   ],
   "source": [
    "s.verify"
   ]
  },
  {
   "cell_type": "code",
   "execution_count": 107,
   "id": "0826a514-2f3e-45cc-ae73-013b7511265e",
   "metadata": {},
   "outputs": [],
   "source": [
    "# youtube playlist"
   ]
  },
  {
   "cell_type": "code",
   "execution_count": 108,
   "id": "890a0f85-c2b7-4e39-ae71-12faf9dbe406",
   "metadata": {},
   "outputs": [],
   "source": [
    "url3='https://www.youtube.com/watch?v=t2_Q2BRzeEE&list=PLGjplNEQ1it8-0CmoljS5yeV-GlKSUEt0&ab_channel=ShradhaKhapra'"
   ]
  },
  {
   "cell_type": "code",
   "execution_count": 109,
   "id": "50750913-1e0e-4ab3-b4e1-869075ff4543",
   "metadata": {},
   "outputs": [],
   "source": [
    "res= requests.get(url3)"
   ]
  },
  {
   "cell_type": "code",
   "execution_count": 110,
   "id": "12fb809b-76cd-453e-b5bb-6aa44d58c2ff",
   "metadata": {},
   "outputs": [
    {
     "data": {
      "text/plain": [
       "200"
      ]
     },
     "execution_count": 110,
     "metadata": {},
     "output_type": "execute_result"
    }
   ],
   "source": [
    "res.status_code"
   ]
  },
  {
   "cell_type": "code",
   "execution_count": 112,
   "id": "a08b951d-8aa1-4ddd-a4e3-29512b4093a6",
   "metadata": {},
   "outputs": [],
   "source": [
    "# res.text"
   ]
  },
  {
   "cell_type": "code",
   "execution_count": 113,
   "id": "2ed1c6e3-a98e-4ae0-8a64-0304002fe135",
   "metadata": {},
   "outputs": [
    {
     "data": {
      "text/plain": [
       "<bound method Response.json of <Response [200]>>"
      ]
     },
     "execution_count": 113,
     "metadata": {},
     "output_type": "execute_result"
    }
   ],
   "source": [
    "res.json"
   ]
  },
  {
   "cell_type": "code",
   "execution_count": 119,
   "id": "f56fd99a-6ef6-4f4d-8083-91b9534f40fa",
   "metadata": {},
   "outputs": [
    {
     "data": {
      "text/plain": [
       "<module 'requests.hooks' from 'C:\\\\Users\\\\M-Babar-Ai\\\\anaconda3\\\\Lib\\\\site-packages\\\\requests\\\\hooks.py'>"
      ]
     },
     "execution_count": 119,
     "metadata": {},
     "output_type": "execute_result"
    }
   ],
   "source": [
    "requests.hooks"
   ]
  },
  {
   "cell_type": "code",
   "execution_count": 120,
   "id": "830822dc-a9dd-4f3c-b876-1d8ce51f38ab",
   "metadata": {},
   "outputs": [
    {
     "data": {
      "text/plain": [
       "requests.exceptions.FileModeWarning"
      ]
     },
     "execution_count": 120,
     "metadata": {},
     "output_type": "execute_result"
    }
   ],
   "source": [
    "requests.FileModeWarning"
   ]
  },
  {
   "cell_type": "code",
   "execution_count": 121,
   "id": "42ed4d3d-1a41-4d07-8bb9-282b2dae99ed",
   "metadata": {},
   "outputs": [
    {
     "data": {
      "text/plain": [
       "<function requests.api.head(url, **kwargs)>"
      ]
     },
     "execution_count": 121,
     "metadata": {},
     "output_type": "execute_result"
    }
   ],
   "source": [
    "requests.head"
   ]
  },
  {
   "cell_type": "code",
   "execution_count": 122,
   "id": "5dc7b0aa-03d9-4100-a9b0-a6bc4c84eaad",
   "metadata": {},
   "outputs": [
    {
     "data": {
      "text/plain": [
       "requests.exceptions.JSONDecodeError"
      ]
     },
     "execution_count": 122,
     "metadata": {},
     "output_type": "execute_result"
    }
   ],
   "source": [
    "requests.JSONDecodeError"
   ]
  },
  {
   "cell_type": "code",
   "execution_count": 124,
   "id": "6dedde30-83e7-4387-b530-4429b8de7838",
   "metadata": {},
   "outputs": [
    {
     "ename": "TypeError",
     "evalue": "'module' object is not callable",
     "output_type": "error",
     "traceback": [
      "\u001b[1;31m---------------------------------------------------------------------------\u001b[0m",
      "\u001b[1;31mTypeError\u001b[0m                                 Traceback (most recent call last)",
      "Cell \u001b[1;32mIn[124], line 1\u001b[0m\n\u001b[1;32m----> 1\u001b[0m \u001b[43mrequests\u001b[49m\u001b[38;5;241;43m.\u001b[39;49m\u001b[43mssl\u001b[49m\u001b[43m(\u001b[49m\u001b[43m)\u001b[49m\n",
      "\u001b[1;31mTypeError\u001b[0m: 'module' object is not callable"
     ]
    }
   ],
   "source": [
    "requests.ssl("
   ]
  },
  {
   "cell_type": "code",
   "execution_count": null,
   "id": "638913da-b745-472e-9961-dd22ee0b5a9e",
   "metadata": {},
   "outputs": [],
   "source": []
  }
 ],
 "metadata": {
  "kernelspec": {
   "display_name": "Python 3 (ipykernel)",
   "language": "python",
   "name": "python3"
  },
  "language_info": {
   "codemirror_mode": {
    "name": "ipython",
    "version": 3
   },
   "file_extension": ".py",
   "mimetype": "text/x-python",
   "name": "python",
   "nbconvert_exporter": "python",
   "pygments_lexer": "ipython3",
   "version": "3.12.4"
  }
 },
 "nbformat": 4,
 "nbformat_minor": 5
}
